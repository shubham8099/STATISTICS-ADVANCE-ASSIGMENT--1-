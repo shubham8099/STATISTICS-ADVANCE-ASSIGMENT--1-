{
 "cells": [
  {
   "cell_type": "markdown",
   "id": "9541ff2e-45f9-44b2-a814-95679c135918",
   "metadata": {},
   "source": [
    "Q1. What is the Probability density function?"
   ]
  },
  {
   "cell_type": "markdown",
   "id": "9a193432-aa2c-42ac-a4ea-73f83c3621e5",
   "metadata": {},
   "source": [
    "* Probablity distribution function(PDF) is a concept in probablity theory and statistics that describe the \n",
    "  likelihood of Countinuos random variable taking on the particular value . It is often denoted by f(x) where\n",
    "  x is variable in the Question . The PDF represent the distribution of probablities acroos the Range of possible\n",
    "  values for a countinuos random variable . \n",
    "  \n",
    "* The PDF has a property that the area under the curve over the entire range of possible value is equal to 1 .\n"
   ]
  },
  {
   "cell_type": "markdown",
   "id": "c2509a28-b75f-4691-b7cd-9447006dad40",
   "metadata": {},
   "source": [
    "Q2. What are the types of Probability distribution ?"
   ]
  },
  {
   "cell_type": "markdown",
   "id": "c06648db-0f91-4b93-accb-b128960db3ed",
   "metadata": {},
   "source": [
    "* There are two mainly Probablity Distribution .\n",
    "\n",
    "# Discrete Probablity Distribution :\n",
    " * Bernoulli Distribution => Describe an Random experiment with only two possible outcome(Success or faliure) , often\n",
    "                             Denoted as 1 and 0 \n",
    "                             \n",
    " * Binomial Distribution =>  Represent the number of successes in a fixed number of independent Bernouli Trials.\n",
    " \n",
    " * Poisson Distribution => Models the number of events occuring in a fixed interval of time or space , given a known average\n",
    "                           rate of occurance . \n",
    "                           \n",
    "# Countinuous Probablity Distribution : \n",
    "\n",
    " * Uniform Distribution => All outcome have equal probablity , and the probablity distribution density is constant over a \n",
    "                           Specified Range . \n",
    "                           \n",
    " * Normal Distribution(Gaussian Distribution) => Characterized by bell-shaped curve and is compltely determined by its mean\n",
    "                                                 and their standard deviation . Many nayural phenomena follow a normal        distribution\n",
    " \n",
    " * Exponential Distribution => Describe the time between events in a Poisson process where events occur coutinuosly and the \n",
    "                               independently at a constant average rate . \n",
    "                               \n",
    " * Gamma Distribution => Generalizes the exponential distribution and is often used to model waiting times . \n",
    " \n",
    " * Weibull Distribution => Widely used in reliablity engineering and survival analysis . "
   ]
  },
  {
   "cell_type": "markdown",
   "id": "fb224607-8aef-4cab-a2bc-b3a87741e2a7",
   "metadata": {},
   "source": [
    "Q3. Write a Python function to calculate the probability density function of a normal distribution with\n",
    "given mean and standard deviation at a given point ."
   ]
  },
  {
   "cell_type": "code",
   "execution_count": 13,
   "id": "fa711126-2d9a-4995-8257-084bb7509b0e",
   "metadata": {},
   "outputs": [
    {
     "name": "stdout",
     "output_type": "stream",
     "text": [
      "The PDF at x = (1.5,) is result\n"
     ]
    }
   ],
   "source": [
    "import math \n",
    "def normal_pdf(x,mean,std_dev):\n",
    "    \"\"\"\n",
    "    Calculate the probablity density function (PDF) of a normal distribution at a given Point .\n",
    "    \n",
    "    Parameters :\n",
    "    -x : The point at which evaluate the the PDF\n",
    "    -mean : The mean of the normal Distribution \n",
    "    -std_dev : The standard deviation of the normal distribution \n",
    "    \n",
    "    Returns :\n",
    "    The PDF value at the given point \n",
    "    \"\"\"\n",
    "    coefficient = 1 / (std_dev * math.sqrt(2 * math.pi))\n",
    "    exponent = -((x - mean)**2) / (2 * std_dev**2)\n",
    "    pdf_value = coefficient * math.exp(exponent)\n",
    "    return pdf_value\n",
    "\n",
    "# Example usage : \n",
    "mean_value = 0\n",
    "std_dev_value = 1\n",
    "point_to_evaluate = 1.5\n",
    "\n",
    "result = normal_pdf(point_to_evaluate , mean_value , std_dev_value)\n",
    "print(f\"The PDF at x = {point_to_evaluate,} is result\")"
   ]
  },
  {
   "cell_type": "markdown",
   "id": "a527d27c-1bf1-48f0-857e-1c8a912f0b05",
   "metadata": {},
   "source": [
    "Q4. What are the properties of Binomial distribution? Give two examples of events where binomial\n",
    "distribution can be applied ."
   ]
  },
  {
   "cell_type": "markdown",
   "id": "8f9ad615-057e-41ec-9e28-23874cd9c9d3",
   "metadata": {},
   "source": [
    "# Binomial Distribution :\n",
    "  * Binomial distribution is a discrete probablity distribution that models the number of successes in a fixed \n",
    "    number of independent and identical Bernouli Distribution . Each Trials has only two possibles outcomes , often refferd\n",
    "    to as \"Successes\" and \"Failure\" and the probablity of Successes is denoted by(p) remain contant for each trials .\n",
    "    \n",
    "* Let us an taking Example of Binomial Distribution where they can apply easily .\n",
    "\n",
    "# Coin Flipping :\n",
    " * Consider a flipping coin which can flip multiple times . Each flip is independent and there are only two possible \n",
    "   outcomes head(Success) and Tail(Failure) . the probablity of getting head each trail is(p) 0.5 assuming the coin is fair\n",
    "   if we can flip the coin n times , we can model the number of head obtained using binomial Distribution . \n",
    "   \n",
    "# Quality Control in Manufacturing  : \n",
    " * In Manufacturing processes , product are often inspected ofr defect . Let say we are inpecting a batch of items, and each\n",
    "   items is either defective(failure) or non-defective(Success) . The probablity of producing a defective item(p) is a \n",
    "   characteristic of the manufacturing process . if we inspect n times from the batch, the number of defective items can be \n",
    "   model by using the Binomial Distribution . This distribution is useful in quality control to inderstand the likelihood \n",
    "   of a certain number defects occuring in a given sample . "
   ]
  },
  {
   "cell_type": "markdown",
   "id": "f787420f-dee7-41ff-bbbf-a173e12797f1",
   "metadata": {},
   "source": [
    "Q5. Generate a random sample of size 1000 from a binomial distribution with probability of success 0.4\n",
    "and plot a histogram of the results using matplotlib.\n",
    "\n"
   ]
  },
  {
   "cell_type": "code",
   "execution_count": 14,
   "id": "2be1131e-1bd0-4a78-a05b-4febbc9c17c4",
   "metadata": {},
   "outputs": [
    {
     "data": {
      "image/png": "[encoded data removed]",
      "text/plain": [
       "<Figure size 640x480 with 1 Axes>"
      ]
     },
     "metadata": {},
     "output_type": "display_data"
    }
   ],
   "source": [
    "import numpy as np\n",
    "import matplotlib.pyplot as plt\n",
    "\n",
    "# Set the seed for reproducibility +_+\n",
    "np.random.seed(42)\n",
    "\n",
    "# Generate a random sample of size 1000 from a binomial distribution ^_^ \n",
    "sample_size = 1000\n",
    "probability_of_success = 0.4\n",
    "binomial_sample = np.random.binomial(1, probability_of_success, size=sample_size)\n",
    "\n",
    "# Plot a histogram of the results &_&\n",
    "plt.hist(binomial_sample, bins=[-0.5, 0.5, 1.5], edgecolor='black', alpha=0.7)\n",
    "plt.xlabel('Number of Successes')\n",
    "plt.ylabel('Frequency')\n",
    "plt.title(f'Binomial Distribution\\nProbability of Success: {probability_of_success}, Sample Size: {sample_size}')\n",
    "plt.xticks([0, 1], ['Failure','Success'])\n",
    "plt.show()"
   ]
  },
  {
   "cell_type": "markdown",
   "id": "1cf11d58-a267-4b1d-a876-2d04d40108be",
   "metadata": {},
   "source": [
    "Q6. Write a Python function to calculate the cumulative distribution function of a Poisson distribution\n",
    "with given mean at a given point."
   ]
  },
  {
   "cell_type": "code",
   "execution_count": 81,
   "id": "ced7c735-5ca0-41f4-b8ff-51c1d0ee3d48",
   "metadata": {},
   "outputs": [
    {
     "name": "stdout",
     "output_type": "stream",
     "text": [
      "The CDF at k = 3 is 0.7575761331330659\n"
     ]
    }
   ],
   "source": [
    "# import math\n",
    "\n",
    "def poisson_cdf(k , mean):\n",
    "    \"\"\"\n",
    "    Calculate the cumulative Distribution function(CDF) of a poisson distribution \n",
    "    \n",
    "    Paramters :\n",
    "    - k: The point at which to evaluate teh The CDF\n",
    "    - mean : The mean of the Poisson Distribution \n",
    "    \n",
    "    Returns :\n",
    "    The CDF value at the gievn point .\n",
    "    \"\"\"\n",
    "    \n",
    "    cdf_value = 0.0\n",
    "    for i in range(k + 1):\n",
    "        cdf_value += (math.exp(-mean) * mean**i) / math.factorial(i)\n",
    "    return cdf_value     \n",
    "\n",
    "# Example usage :\n",
    "mean_value = 2.5 \n",
    "point_to_evaluate = 3 \n",
    "\n",
    "result = poisson_cdf(point_to_evaluate , mean_value)\n",
    "print(f\"The CDF at k = {point_to_evaluate} is {result}\")"
   ]
  },
  {
   "cell_type": "markdown",
   "id": "64e46cca-34c1-47e2-b2da-36bf84d4ee1f",
   "metadata": {},
   "source": [
    "Q7. How Binomial distribution different from Poisson distribution ?"
   ]
  },
  {
   "cell_type": "markdown",
   "id": "026be7e6-b85e-4aa4-b399-66a0e50ca29d",
   "metadata": {},
   "source": [
    "# Binomial Distribution \n",
    "\n",
    "# Number of Trials :-\n",
    "\n",
    " * The binomial distribution is used when there are fixed number of independent Trials .\n",
    " * Each Trials Has only two Pssible Outcomes : Sucess or Failure \n",
    "\n",
    "# Outcome of Each Trial :-\n",
    "\n",
    " * The Probablity of Sucess or Failure remains constant for each Trial .\n",
    " * The Trails are independent , meaning the outcome of one trial does not effect the another trail outcome .\n",
    " \n",
    "# Nature of Random Variable :-\n",
    "\n",
    " * The binomial Distribution is used to model the number of successes(k) in a fixed number of Trials(n) . \n",
    "\n",
    "# Parameter \n",
    "\n",
    " * It is Characterized by Two Parameter: The number of Trials(n) and the probablity of Sucess(p) . \n",
    " \n",
    " \n",
    "# Poisson Distribution :\n",
    "\n",
    " * The poison Distribution is used when the number of trials is not fixed and tends to infinity .\n",
    "\n",
    "# Outcome of Each Trials :\n",
    " \n",
    " * It is used to model the number of events that occur in a fixed interval or time or Space :\n",
    " * The event are assumed to occur indenpendently .\n",
    " \n",
    "# Nature of Random Variable :\n",
    "\n",
    " * The poisson Distribution models the number of event(k) occuring in the fixed interval .\n",
    " \n",
    "# Parameter :-\n",
    "\n",
    " * It is characterixed by single Parameter(Lambda) which represent the average rate of events per interval ."
   ]
  },
  {
   "cell_type": "markdown",
   "id": "e1a66d58-067f-45d2-8276-04b82c5a5b85",
   "metadata": {},
   "source": [
    "Q8. Generate a random sample of size 1000 from a Poisson distribution with mean 5 and calculate the\n",
    "sample mean and variance."
   ]
  },
  {
   "cell_type": "code",
   "execution_count": 4,
   "id": "02945816-c62b-459c-870d-8bb201258338",
   "metadata": {},
   "outputs": [
    {
     "name": "stdout",
     "output_type": "stream",
     "text": [
      "Sample Mean: 5.039\n",
      "Sample Variance: 4.738217217217216\n"
     ]
    }
   ],
   "source": [
    "import numpy as np\n",
    "\n",
    "# Set the mean for the Poison Distribution :-\n",
    "mean_value = 5\n",
    "\n",
    "# Generate the Random Sample of size 1000 from Poisson Distribution \n",
    "random_sample = np.random.poisson(mean_value , 1000)\n",
    "\n",
    "# Calculate the Sample mean and the Variance :-\n",
    "sample_mean = np.mean(random_sample)\n",
    "sample_variance = np.var(random_sample , ddof=1) # ddof = 1 for sample Variance\n",
    "\n",
    "# Print The Result \n",
    "print(\"Sample Mean:\",sample_mean)\n",
    "print(\"Sample Variance:\",sample_variance)"
   ]
  },
  {
   "cell_type": "markdown",
   "id": "bb0fef9b-d24b-4ed6-8ae7-510556013659",
   "metadata": {},
   "source": [
    "Q9. How mean and variance are related in Binomial distribution and Poisson distribution ?"
   ]
  },
  {
   "cell_type": "markdown",
   "id": "3892905f-4069-4f21-939e-cca70d2b0141",
   "metadata": {},
   "source": [
    "* The mean and Variance in both the Binomial Distribution And the Poisson Distribution are related to the same parameter\n",
    "  which Represent the average Rate of Sucess or events . \n",
    "  \n",
    "# Binomial Distribution :\n",
    "\n",
    " * Mean : The mean of a binomial Distribution is given by the product of number of Trial(n) and the Probablity of Successes.\n",
    " * Variance : The variance of binomial distribution is given by product of trial(n), the probablity of success(p),and the \n",
    "              Probablity of Failure .\n",
    "              \n",
    "# Poisson Distribution :\n",
    "\n",
    " * Mean : The mean of Poisson Distribution is denoted by(Lambda) and represent the average rate of event in fixed interval .\n",
    " * Variance : The Variation of Poisson distribution equal to its mean ."
   ]
  },
  {
   "cell_type": "markdown",
   "id": "6422381d-4bc2-46ea-9e56-a4e3fb015609",
   "metadata": {},
   "source": [
    "Q10. In normal distribution with respect to mean position, where does the least frequent data appear?"
   ]
  },
  {
   "cell_type": "markdown",
   "id": "b87948dc-d490-412b-ab05-47a18a598104",
   "metadata": {},
   "source": [
    "* In normal Distribution , which is symmetric around its mean, the least frequent(or extreme) data point appear in the tails \n",
    "  of the distribution . The normal Distribution is characterized by bell Shape curve and it is perfectly symmetrical .\n",
    "  \n",
    "* The least frequent data points,representing extreme value are found in tails of the distribution .\n",
    "\n",
    "* The most frequent data points , representing values close to the mean, are found in the central pr Peak region of the \n",
    "  Distribution . \n",
    "  "
   ]
  }
 ],
 "metadata": {
  "kernelspec": {
   "display_name": "Python 3 (ipykernel)",
   "language": "python",
   "name": "python3"
  },
  "language_info": {
   "codemirror_mode": {
    "name": "ipython",
    "version": 3
   },
   "file_extension": ".py",
   "mimetype": "text/x-python",
   "name": "python",
   "nbconvert_exporter": "python",
   "pygments_lexer": "ipython3",
   "version": "3.10.8"
  }
 },
 "nbformat": 4,
 "nbformat_minor": 5
}
